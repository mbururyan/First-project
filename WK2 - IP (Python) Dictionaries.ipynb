{
  "nbformat": 4,
  "nbformat_minor": 0,
  "metadata": {
    "colab": {
      "name": "Moringa_Data_Science_Prep_WK2_IP_30/07/2021_Ryan_Mburu_Python.ipynb",
      "provenance": [],
      "collapsed_sections": [],
      "authorship_tag": "ABX9TyOzBTszYPl3GL/Bo5pHvcEF",
      "include_colab_link": true
    },
    "kernelspec": {
      "name": "python3",
      "display_name": "Python 3"
    },
    "language_info": {
      "name": "python"
    }
  },
  "cells": [
    {
      "cell_type": "markdown",
      "metadata": {
        "id": "view-in-github",
        "colab_type": "text"
      },
      "source": [
        "<a href=\"https://colab.research.google.com/github/mbururyan/Prep-Moringa-School-IPs/blob/main/WK2%20-%20IP%20(Python)%20Dictionaries.ipynb\" target=\"_parent\"><img src=\"https://colab.research.google.com/assets/colab-badge.svg\" alt=\"Open In Colab\"/></a>"
      ]
    },
    {
      "cell_type": "code",
      "metadata": {
        "id": "VMfOZMjZ5Ytx",
        "colab": {
          "base_uri": "https://localhost:8080/"
        },
        "outputId": "a70de3c6-a7f8-4028-f62e-dcc68c4b94cd"
      },
      "source": [
        "#initial dictionary\n",
        "contact_book = {\n",
        "    'Paul' : 'parul@moringa.org',\n",
        "    'Thomas' : 'thomas@moringa.org',\n",
        "    'Ashley' : 'ashley@moringa.org',\n",
        "    'ken' : 'ken@moringa.org',\n",
        "    'June' : 'june@moringa.org',\n",
        "    'Joseph' : 'joseph@moringa.org',\n",
        "    'Lillian' : 'lillian@moringa.org',\n",
        "    'Arnold' : 'Arnold@moringa.org'\n",
        "}\n",
        "\n",
        "print(contact_book)"
      ],
      "execution_count": null,
      "outputs": [
        {
          "output_type": "stream",
          "text": [
            "{'Paul': 'parul@moringa.org', 'Thomas': 'thomas@moringa.org', 'Ashley': 'ashley@moringa.org', 'ken': 'ken@moringa.org', 'June': 'june@moringa.org', 'Joseph': 'joseph@moringa.org', 'Lillian': 'lillian@moringa.org', 'Arnold': 'Arnold@moringa.org'}\n"
          ],
          "name": "stdout"
        }
      ]
    },
    {
      "cell_type": "code",
      "metadata": {
        "colab": {
          "base_uri": "https://localhost:8080/"
        },
        "id": "XdRmbliECYSW",
        "outputId": "9745313f-d1d2-4870-88a6-dc8d9b28423e"
      },
      "source": [
        "#deleting a contact\n",
        "\n",
        "promt_del = \"Enter any name you wish to be deleted from the contact book : \"\n",
        "\n",
        "length_contact_book = len(contact_book)\n",
        "\n",
        "del_contact = str(input(promt_del))\n",
        "\n",
        "#deleting a contact\n",
        "contact_book_after_del = contact_book.pop(del_contact)\n",
        "\n",
        "#printing out the remaining dictionary without the deleted contacts(popped)\n",
        "print(contact_book)\n",
        "\n"
      ],
      "execution_count": null,
      "outputs": [
        {
          "output_type": "stream",
          "text": [
            "Enter any name you wish to be deleted from the contact book : Lillian\n",
            "{'Paul': 'parul@moringa.org', 'Thomas': 'thomas@moringa.org', 'Ashley': 'ashley@moringa.org', 'ken': 'ken@moringa.org', 'June': 'june@moringa.org', 'Joseph': 'joseph@moringa.org'}\n"
          ],
          "name": "stdout"
        }
      ]
    },
    {
      "cell_type": "code",
      "metadata": {
        "colab": {
          "base_uri": "https://localhost:8080/"
        },
        "id": "SbiSLTTaEJd6",
        "outputId": "b941c5b8-8920-4955-ba1f-b1f204d4953e"
      },
      "source": [
        "#printing out the first two contacts\n",
        "\n",
        "count = 0\n",
        "\n",
        "length_contact_book = len(contact_book)\n",
        "\n",
        "for x, y in contact_book.items():\n",
        "  if count < 2:\n",
        "    print(x, \":\", y)\n",
        "  else:\n",
        "    break\n",
        "  count += 1\n",
        "\n",
        "\n",
        "  "
      ],
      "execution_count": null,
      "outputs": [
        {
          "output_type": "stream",
          "text": [
            "Paul : parul@moringa.org\n",
            "Thomas : thomas@moringa.org\n"
          ],
          "name": "stdout"
        }
      ]
    },
    {
      "cell_type": "code",
      "metadata": {
        "colab": {
          "base_uri": "https://localhost:8080/"
        },
        "id": "hKXMX9fdM0-c",
        "outputId": "1a1e37c6-b4c0-441a-dd9d-af833c81abb9"
      },
      "source": [
        "#printing out length of the dictionary\n",
        "\n",
        "length_contact_book = len(contact_book)\n",
        "\n",
        "#the total number of contacts left is :\n",
        "print(length_contact_book)"
      ],
      "execution_count": null,
      "outputs": [
        {
          "output_type": "stream",
          "text": [
            "6\n"
          ],
          "name": "stdout"
        }
      ]
    },
    {
      "cell_type": "code",
      "metadata": {
        "colab": {
          "base_uri": "https://localhost:8080/"
        },
        "id": "_pr4Qc5INbEY",
        "outputId": "86110341-ae20-4400-ddc6-29d4fb25af98"
      },
      "source": [
        "#addition of two new contacts\n",
        "\n",
        "count = 0\n",
        "\n",
        "while count < 2:\n",
        "  #ask user to input name and email of the said name\n",
        "  name_of_contact = input(\"Whats the name? : \")\n",
        "  email_of_contact = input(\"Whats the email? :\")\n",
        "\n",
        "  #saving the index and valie into the dictionary\n",
        "  contact_book[name_of_contact] = email_of_contact\n",
        "\n",
        "  count = count + 1\n",
        "\n",
        "#printing out the dictionary\n",
        "print(contact_book)"
      ],
      "execution_count": null,
      "outputs": [
        {
          "output_type": "stream",
          "text": [
            "Whats the name? : August\n",
            "Whats the email? :august@moringa.org\n",
            "Whats the name? : may\n",
            "Whats the email? :may@moringa.org\n",
            "{'Paul': 'parul@moringa.org', 'Thomas': 'thomas@moringa.org', 'Ashley': 'ashley@moringa.org', 'ken': 'ken@moringa.org', 'June': 'june@moringa.org', 'Joseph': 'joseph@moringa.org', 'Ryan': 'ryan@moringa.org', 'april': 'april@moringa.org', 'August': 'august@moringa.org', 'may': 'may@moringa.org'}\n"
          ],
          "name": "stdout"
        }
      ]
    },
    {
      "cell_type": "code",
      "metadata": {
        "colab": {
          "base_uri": "https://localhost:8080/"
        },
        "id": "i2BxcKzWPzfb",
        "outputId": "b6787cf9-9ad2-445b-90f2-33a8aa2923f2"
      },
      "source": [
        "#printing out all contacts in the dictionary\n",
        "\n",
        "for x, y in contact_book.items():\n",
        "  print(x, \":\", y)"
      ],
      "execution_count": null,
      "outputs": [
        {
          "output_type": "stream",
          "text": [
            "Paul : parul@moringa.org\n",
            "Thomas : thomas@moringa.org\n",
            "Ashley : ashley@moringa.org\n",
            "ken : ken@moringa.org\n",
            "June : june@moringa.org\n",
            "Joseph : joseph@moringa.org\n",
            "Ryan : ryan@moringa.org\n",
            "april : april@moringa.org\n",
            "August : august@moringa.org\n",
            "may : may@moringa.org\n"
          ],
          "name": "stdout"
        }
      ]
    }
  ]
}